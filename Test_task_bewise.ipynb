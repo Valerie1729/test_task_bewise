{
 "cells": [
  {
   "cell_type": "markdown",
   "metadata": {},
   "source": [
    "# Test task"
   ]
  },
  {
   "cell_type": "code",
   "execution_count": 1,
   "metadata": {},
   "outputs": [],
   "source": [
    "import pandas as pd"
   ]
  },
  {
   "cell_type": "code",
   "execution_count": 2,
   "metadata": {},
   "outputs": [],
   "source": [
    "df = pd.read_csv(\"test_data.csv\")\n",
    "df_c = df.copy(deep = True)"
   ]
  },
  {
   "cell_type": "code",
   "execution_count": 3,
   "metadata": {
    "scrolled": true
   },
   "outputs": [
    {
     "data": {
      "text/html": [
       "<div>\n",
       "<style scoped>\n",
       "    .dataframe tbody tr th:only-of-type {\n",
       "        vertical-align: middle;\n",
       "    }\n",
       "\n",
       "    .dataframe tbody tr th {\n",
       "        vertical-align: top;\n",
       "    }\n",
       "\n",
       "    .dataframe thead th {\n",
       "        text-align: right;\n",
       "    }\n",
       "</style>\n",
       "<table border=\"1\" class=\"dataframe\">\n",
       "  <thead>\n",
       "    <tr style=\"text-align: right;\">\n",
       "      <th></th>\n",
       "      <th>dlg_id</th>\n",
       "      <th>line_n</th>\n",
       "      <th>role</th>\n",
       "      <th>text</th>\n",
       "    </tr>\n",
       "  </thead>\n",
       "  <tbody>\n",
       "    <tr>\n",
       "      <td>1</td>\n",
       "      <td>0</td>\n",
       "      <td>1</td>\n",
       "      <td>manager</td>\n",
       "      <td>Алло здравствуйте</td>\n",
       "    </tr>\n",
       "    <tr>\n",
       "      <td>3</td>\n",
       "      <td>0</td>\n",
       "      <td>3</td>\n",
       "      <td>manager</td>\n",
       "      <td>Меня зовут ангелина компания диджитал бизнес з...</td>\n",
       "    </tr>\n",
       "    <tr>\n",
       "      <td>5</td>\n",
       "      <td>0</td>\n",
       "      <td>5</td>\n",
       "      <td>manager</td>\n",
       "      <td>Угу ну возможно вы рассмотрите и другие вариан...</td>\n",
       "    </tr>\n",
       "    <tr>\n",
       "      <td>8</td>\n",
       "      <td>0</td>\n",
       "      <td>8</td>\n",
       "      <td>manager</td>\n",
       "      <td>Угу а на что вы обращаете внимание при выборе</td>\n",
       "    </tr>\n",
       "    <tr>\n",
       "      <td>11</td>\n",
       "      <td>0</td>\n",
       "      <td>11</td>\n",
       "      <td>manager</td>\n",
       "      <td>Что для вас приоритет</td>\n",
       "    </tr>\n",
       "    <tr>\n",
       "      <td>...</td>\n",
       "      <td>...</td>\n",
       "      <td>...</td>\n",
       "      <td>...</td>\n",
       "      <td>...</td>\n",
       "    </tr>\n",
       "    <tr>\n",
       "      <td>472</td>\n",
       "      <td>5</td>\n",
       "      <td>135</td>\n",
       "      <td>manager</td>\n",
       "      <td>Так дмитрий</td>\n",
       "    </tr>\n",
       "    <tr>\n",
       "      <td>473</td>\n",
       "      <td>5</td>\n",
       "      <td>136</td>\n",
       "      <td>manager</td>\n",
       "      <td>Все записала тогда завтра ждите звонка</td>\n",
       "    </tr>\n",
       "    <tr>\n",
       "      <td>475</td>\n",
       "      <td>5</td>\n",
       "      <td>138</td>\n",
       "      <td>manager</td>\n",
       "      <td>По поводу виджетов и с ними уже обсудите конкр...</td>\n",
       "    </tr>\n",
       "    <tr>\n",
       "      <td>476</td>\n",
       "      <td>5</td>\n",
       "      <td>139</td>\n",
       "      <td>manager</td>\n",
       "      <td>Все я вам высылаю счет и с вами на связи если ...</td>\n",
       "    </tr>\n",
       "    <tr>\n",
       "      <td>479</td>\n",
       "      <td>5</td>\n",
       "      <td>142</td>\n",
       "      <td>manager</td>\n",
       "      <td>Ну до свидания хорошего вечера</td>\n",
       "    </tr>\n",
       "  </tbody>\n",
       "</table>\n",
       "<p>201 rows × 4 columns</p>\n",
       "</div>"
      ],
      "text/plain": [
       "     dlg_id  line_n     role  \\\n",
       "1         0       1  manager   \n",
       "3         0       3  manager   \n",
       "5         0       5  manager   \n",
       "8         0       8  manager   \n",
       "11        0      11  manager   \n",
       "..      ...     ...      ...   \n",
       "472       5     135  manager   \n",
       "473       5     136  manager   \n",
       "475       5     138  manager   \n",
       "476       5     139  manager   \n",
       "479       5     142  manager   \n",
       "\n",
       "                                                  text  \n",
       "1                                    Алло здравствуйте  \n",
       "3    Меня зовут ангелина компания диджитал бизнес з...  \n",
       "5    Угу ну возможно вы рассмотрите и другие вариан...  \n",
       "8        Угу а на что вы обращаете внимание при выборе  \n",
       "11                               Что для вас приоритет  \n",
       "..                                                 ...  \n",
       "472                                        Так дмитрий  \n",
       "473             Все записала тогда завтра ждите звонка  \n",
       "475  По поводу виджетов и с ними уже обсудите конкр...  \n",
       "476  Все я вам высылаю счет и с вами на связи если ...  \n",
       "479                     Ну до свидания хорошего вечера  \n",
       "\n",
       "[201 rows x 4 columns]"
      ]
     },
     "execution_count": 3,
     "metadata": {},
     "output_type": "execute_result"
    }
   ],
   "source": [
    "#оставляем только реплики менеджеров\n",
    "df_manager = df_c.drop(df_c[df_c.role == \"client\"].index)\n",
    "df_manager"
   ]
  },
  {
   "cell_type": "markdown",
   "metadata": {},
   "source": [
    "### Реплики приветсвия"
   ]
  },
  {
   "cell_type": "code",
   "execution_count": 4,
   "metadata": {},
   "outputs": [
    {
     "data": {
      "text/plain": [
       "[1             Алло здравствуйте\n",
       " 110           Алло здравствуйте\n",
       " 166           Алло здравствуйте\n",
       " 250    Алло дмитрий добрый день\n",
       " Name: text, dtype: object]"
      ]
     },
     "execution_count": 4,
     "metadata": {},
     "output_type": "execute_result"
    }
   ],
   "source": [
    "greetings = []\n",
    "searchfor = ['дравствуйте', 'обрый день']\n",
    "greetings.append(df_manager[df_manager['text'].str.contains('|'.join(searchfor))].text)\n",
    "\n",
    "greetings"
   ]
  },
  {
   "cell_type": "markdown",
   "metadata": {},
   "source": [
    "### Менеджеры представляются"
   ]
  },
  {
   "cell_type": "code",
   "execution_count": 5,
   "metadata": {},
   "outputs": [
    {
     "data": {
      "text/plain": [
       "[3      Меня зовут ангелина компания диджитал бизнес з...\n",
       " 111    Меня зовут ангелина компания диджитал бизнес з...\n",
       " 167    Меня зовут ангелина компания диджитал бизнес з...\n",
       " 251    Добрый меня максим зовут компания китобизнес у...\n",
       " Name: text, dtype: object]"
      ]
     },
     "execution_count": 5,
     "metadata": {},
     "output_type": "execute_result"
    }
   ],
   "source": [
    "introduced = []\n",
    "introduced.append(df_manager[df_manager['text'].str.contains('зовут')].text)\n",
    "\n",
    "introduced "
   ]
  },
  {
   "cell_type": "code",
   "execution_count": 6,
   "metadata": {},
   "outputs": [],
   "source": [
    "import re\n",
    "import numpy as np"
   ]
  },
  {
   "cell_type": "code",
   "execution_count": 7,
   "metadata": {},
   "outputs": [
    {
     "data": {
      "text/plain": [
       "array(['Меня зовут ангелина компания диджитал бизнес звоним вам по поводу продления лицензии а мы с серым у вас скоро срок заканчивается',\n",
       "       'Меня зовут ангелина компания диджитал бизнес звоню вам по поводу продления а мы сели обратила внимание что у вас срок заканчивается',\n",
       "       'Меня зовут ангелина компания диджитал бизнес звоню вам по поводу продления лицензии а мастера мы с вами сотрудничали по видео там',\n",
       "       'Добрый меня максим зовут компания китобизнес удобно говорить'],\n",
       "      dtype='<U131')"
      ]
     },
     "execution_count": 7,
     "metadata": {},
     "output_type": "execute_result"
    }
   ],
   "source": [
    "introduced = np.concatenate(introduced).astype(str)\n",
    "introduced"
   ]
  },
  {
   "cell_type": "code",
   "execution_count": 8,
   "metadata": {},
   "outputs": [
    {
     "data": {
      "text/plain": [
       "[['ангелина'], ['ангелина'], ['ангелина'], ['максим']]"
      ]
     },
     "execution_count": 8,
     "metadata": {},
     "output_type": "execute_result"
    }
   ],
   "source": [
    "names = [re.findall('(?<=еня зовут )\\w+', s) or re.findall(r'меня (.*?) зовут', s) for s in introduced] \n",
    "names"
   ]
  },
  {
   "cell_type": "markdown",
   "metadata": {},
   "source": [
    "### Названия компаний"
   ]
  },
  {
   "cell_type": "code",
   "execution_count": 9,
   "metadata": {},
   "outputs": [
    {
     "data": {
      "text/plain": [
       "[3      Меня зовут ангелина компания диджитал бизнес з...\n",
       " 111    Меня зовут ангелина компания диджитал бизнес з...\n",
       " 167    Меня зовут ангелина компания диджитал бизнес з...\n",
       " 251    Добрый меня максим зовут компания китобизнес у...\n",
       " 273    Транспортная компания хорошо а у вас уже вот в...\n",
       " Name: text, dtype: object]"
      ]
     },
     "execution_count": 9,
     "metadata": {},
     "output_type": "execute_result"
    }
   ],
   "source": [
    "companies = []\n",
    "companies.append(df_manager[df_manager['text'].str.contains('омпания')].text)\n",
    "\n",
    "companies"
   ]
  },
  {
   "cell_type": "code",
   "execution_count": 10,
   "metadata": {},
   "outputs": [
    {
     "data": {
      "text/plain": [
       "[['диджитал'], ['диджитал'], ['диджитал'], ['китобизнес'], ['хорошо']]"
      ]
     },
     "execution_count": 10,
     "metadata": {},
     "output_type": "execute_result"
    }
   ],
   "source": [
    "companies_names = [re.findall('(?<=омпания )\\w+', s) for s in np.concatenate(companies).astype(str)]\n",
    "companies_names"
   ]
  },
  {
   "cell_type": "markdown",
   "metadata": {},
   "source": [
    "### Реплики прощания"
   ]
  },
  {
   "cell_type": "code",
   "execution_count": 11,
   "metadata": {
    "scrolled": true
   },
   "outputs": [
    {
     "data": {
      "text/plain": [
       "[108                           Всего хорошего до свидания\n",
       " 163                                          До свидания\n",
       " 300    Угу все хорошо да понедельника тогда всего доб...\n",
       " 335    Во вторник все ну с вами да тогда до вторника ...\n",
       " 479                       Ну до свидания хорошего вечера\n",
       " Name: text, dtype: object]"
      ]
     },
     "execution_count": 11,
     "metadata": {},
     "output_type": "execute_result"
    }
   ],
   "source": [
    "goodbyes = []\n",
    "searchfor = ['о свидания', 'сего доброго']\n",
    "goodbyes.append(df_manager[df_manager['text'].str.contains('|'.join(searchfor))].text)\n",
    "\n",
    "goodbyes"
   ]
  },
  {
   "cell_type": "markdown",
   "metadata": {},
   "source": [
    "### Проверка требований к менеджеру"
   ]
  },
  {
   "cell_type": "code",
   "execution_count": 12,
   "metadata": {},
   "outputs": [
    {
     "data": {
      "text/html": [
       "<div>\n",
       "<style scoped>\n",
       "    .dataframe tbody tr th:only-of-type {\n",
       "        vertical-align: middle;\n",
       "    }\n",
       "\n",
       "    .dataframe tbody tr th {\n",
       "        vertical-align: top;\n",
       "    }\n",
       "\n",
       "    .dataframe thead th {\n",
       "        text-align: right;\n",
       "    }\n",
       "</style>\n",
       "<table border=\"1\" class=\"dataframe\">\n",
       "  <thead>\n",
       "    <tr style=\"text-align: right;\">\n",
       "      <th></th>\n",
       "      <th>text</th>\n",
       "      <th>greet_gbyes</th>\n",
       "    </tr>\n",
       "    <tr>\n",
       "      <th>dlg_id</th>\n",
       "      <th></th>\n",
       "      <th></th>\n",
       "    </tr>\n",
       "  </thead>\n",
       "  <tbody>\n",
       "    <tr>\n",
       "      <td>0</td>\n",
       "      <td>Алло здравствуйте, Меня зовут ангелина компани...</td>\n",
       "      <td>True</td>\n",
       "    </tr>\n",
       "    <tr>\n",
       "      <td>1</td>\n",
       "      <td>Алло здравствуйте, Меня зовут ангелина компани...</td>\n",
       "      <td>True</td>\n",
       "    </tr>\n",
       "    <tr>\n",
       "      <td>2</td>\n",
       "      <td>Алло здравствуйте, Меня зовут ангелина компани...</td>\n",
       "      <td>False</td>\n",
       "    </tr>\n",
       "    <tr>\n",
       "      <td>3</td>\n",
       "      <td>Алло дмитрий добрый день, Добрый меня максим з...</td>\n",
       "      <td>True</td>\n",
       "    </tr>\n",
       "    <tr>\n",
       "      <td>4</td>\n",
       "      <td>Вот по виду платежи пообщаться помните мы вот ...</td>\n",
       "      <td>False</td>\n",
       "    </tr>\n",
       "    <tr>\n",
       "      <td>5</td>\n",
       "      <td>Да это анастасия, Угу, Так да да хорошо смотри...</td>\n",
       "      <td>False</td>\n",
       "    </tr>\n",
       "  </tbody>\n",
       "</table>\n",
       "</div>"
      ],
      "text/plain": [
       "                                                     text  greet_gbyes\n",
       "dlg_id                                                                \n",
       "0       Алло здравствуйте, Меня зовут ангелина компани...         True\n",
       "1       Алло здравствуйте, Меня зовут ангелина компани...         True\n",
       "2       Алло здравствуйте, Меня зовут ангелина компани...        False\n",
       "3       Алло дмитрий добрый день, Добрый меня максим з...         True\n",
       "4       Вот по виду платежи пообщаться помните мы вот ...        False\n",
       "5       Да это анастасия, Угу, Так да да хорошо смотри...        False"
      ]
     },
     "execution_count": 12,
     "metadata": {},
     "output_type": "execute_result"
    }
   ],
   "source": [
    "text_by_mangers = df_manager.groupby('dlg_id').agg(', '.join).drop(labels='role', axis=1)\n",
    "text_by_mangers['greet_gbyes'] = text_by_mangers['text'].str.contains('|'.join(np.concatenate(greetings).astype(str))) & text_by_mangers['text'].str.contains('|'.join(np.concatenate(goodbyes).astype(str)))\n",
    "text_by_mangers"
   ]
  }
 ],
 "metadata": {
  "kernelspec": {
   "display_name": "Python 3",
   "language": "python",
   "name": "python3"
  },
  "language_info": {
   "codemirror_mode": {
    "name": "ipython",
    "version": 3
   },
   "file_extension": ".py",
   "mimetype": "text/x-python",
   "name": "python",
   "nbconvert_exporter": "python",
   "pygments_lexer": "ipython3",
   "version": "3.7.4"
  }
 },
 "nbformat": 4,
 "nbformat_minor": 2
}
